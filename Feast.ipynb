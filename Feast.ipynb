{
 "cells": [
  {
   "cell_type": "markdown",
   "id": "68f5eb76-7635-427c-9330-0f4a0f72f965",
   "metadata": {},
   "source": [
    "**Data Preparation**"
   ]
  },
  {
   "cell_type": "code",
   "execution_count": 1,
   "id": "11856a65-5842-4693-b835-80176a5ed23a",
   "metadata": {},
   "outputs": [],
   "source": [
    "import pandas as pd"
   ]
  },
  {
   "cell_type": "code",
   "execution_count": 2,
   "id": "e575ddfd-a7db-4549-bbbb-e543da950a42",
   "metadata": {
    "scrolled": true
   },
   "outputs": [
    {
     "data": {
      "text/html": [
       "<div>\n",
       "<style scoped>\n",
       "    .dataframe tbody tr th:only-of-type {\n",
       "        vertical-align: middle;\n",
       "    }\n",
       "\n",
       "    .dataframe tbody tr th {\n",
       "        vertical-align: top;\n",
       "    }\n",
       "\n",
       "    .dataframe thead th {\n",
       "        text-align: right;\n",
       "    }\n",
       "</style>\n",
       "<table border=\"1\" class=\"dataframe\">\n",
       "  <thead>\n",
       "    <tr style=\"text-align: right;\">\n",
       "      <th></th>\n",
       "      <th>Pregnancies</th>\n",
       "      <th>Glucose</th>\n",
       "      <th>BloodPressure</th>\n",
       "      <th>SkinThickness</th>\n",
       "      <th>Insulin</th>\n",
       "      <th>BMI</th>\n",
       "      <th>DiabetesPedigreeFunction</th>\n",
       "      <th>Age</th>\n",
       "      <th>Outcome</th>\n",
       "    </tr>\n",
       "  </thead>\n",
       "  <tbody>\n",
       "    <tr>\n",
       "      <th>0</th>\n",
       "      <td>6</td>\n",
       "      <td>148</td>\n",
       "      <td>72</td>\n",
       "      <td>35</td>\n",
       "      <td>0</td>\n",
       "      <td>33.6</td>\n",
       "      <td>0.627</td>\n",
       "      <td>50</td>\n",
       "      <td>1</td>\n",
       "    </tr>\n",
       "    <tr>\n",
       "      <th>1</th>\n",
       "      <td>1</td>\n",
       "      <td>85</td>\n",
       "      <td>66</td>\n",
       "      <td>29</td>\n",
       "      <td>0</td>\n",
       "      <td>26.6</td>\n",
       "      <td>0.351</td>\n",
       "      <td>31</td>\n",
       "      <td>0</td>\n",
       "    </tr>\n",
       "    <tr>\n",
       "      <th>2</th>\n",
       "      <td>8</td>\n",
       "      <td>183</td>\n",
       "      <td>64</td>\n",
       "      <td>0</td>\n",
       "      <td>0</td>\n",
       "      <td>23.3</td>\n",
       "      <td>0.672</td>\n",
       "      <td>32</td>\n",
       "      <td>1</td>\n",
       "    </tr>\n",
       "    <tr>\n",
       "      <th>3</th>\n",
       "      <td>1</td>\n",
       "      <td>89</td>\n",
       "      <td>66</td>\n",
       "      <td>23</td>\n",
       "      <td>94</td>\n",
       "      <td>28.1</td>\n",
       "      <td>0.167</td>\n",
       "      <td>21</td>\n",
       "      <td>0</td>\n",
       "    </tr>\n",
       "    <tr>\n",
       "      <th>4</th>\n",
       "      <td>0</td>\n",
       "      <td>137</td>\n",
       "      <td>40</td>\n",
       "      <td>35</td>\n",
       "      <td>168</td>\n",
       "      <td>43.1</td>\n",
       "      <td>2.288</td>\n",
       "      <td>33</td>\n",
       "      <td>1</td>\n",
       "    </tr>\n",
       "  </tbody>\n",
       "</table>\n",
       "</div>"
      ],
      "text/plain": [
       "   Pregnancies  Glucose  BloodPressure  SkinThickness  Insulin   BMI  \\\n",
       "0            6      148             72             35        0  33.6   \n",
       "1            1       85             66             29        0  26.6   \n",
       "2            8      183             64              0        0  23.3   \n",
       "3            1       89             66             23       94  28.1   \n",
       "4            0      137             40             35      168  43.1   \n",
       "\n",
       "   DiabetesPedigreeFunction  Age  Outcome  \n",
       "0                     0.627   50        1  \n",
       "1                     0.351   31        0  \n",
       "2                     0.672   32        1  \n",
       "3                     0.167   21        0  \n",
       "4                     2.288   33        1  "
      ]
     },
     "execution_count": 2,
     "metadata": {},
     "output_type": "execute_result"
    }
   ],
   "source": [
    "data = pd.read_csv('diabetes.csv')\n",
    "data.head()"
   ]
  },
  {
   "cell_type": "code",
   "execution_count": null,
   "id": "5e84fab1-80ef-4b32-8b7f-39a3d0524030",
   "metadata": {},
   "outputs": [],
   "source": []
  },
  {
   "cell_type": "code",
   "execution_count": 3,
   "id": "276a81fe-97a1-4d70-86e4-01c07c5d5afe",
   "metadata": {},
   "outputs": [],
   "source": [
    "predictors_df = data.loc[:,data.columns!='Outcome']"
   ]
  },
  {
   "cell_type": "code",
   "execution_count": 4,
   "id": "d1b91005-dd90-465b-b76d-a7d27c67bc3d",
   "metadata": {},
   "outputs": [],
   "source": [
    "target_df = data['Outcome']"
   ]
  },
  {
   "cell_type": "code",
   "execution_count": 5,
   "id": "5fe722eb-cf0f-4512-a0e8-a2d7cab926c1",
   "metadata": {},
   "outputs": [],
   "source": [
    "rowLen = data.shape[0]\n",
    "timestamps = pd.date_range(end=pd.Timestamp.now(), periods=rowLen, freq='D').to_frame(name='event_timestamp', index=False)"
   ]
  },
  {
   "cell_type": "code",
   "execution_count": 6,
   "id": "e72aa03d-aac6-4d10-b098-b14a81879a3b",
   "metadata": {},
   "outputs": [
    {
     "data": {
      "text/plain": [
       "(768, 9)"
      ]
     },
     "execution_count": 6,
     "metadata": {},
     "output_type": "execute_result"
    }
   ],
   "source": [
    "data.shape"
   ]
  },
  {
   "cell_type": "code",
   "execution_count": 7,
   "id": "989218c3-1817-4769-9bf2-a0fad0d4112b",
   "metadata": {},
   "outputs": [],
   "source": [
    "idsList = list(range(rowLen))\n",
    "patient_ids = pd.DataFrame(idsList, columns=['patient_id'])"
   ]
  },
  {
   "cell_type": "code",
   "execution_count": 8,
   "id": "bcc5ed0f-6d67-4fa8-8593-c93e17188578",
   "metadata": {},
   "outputs": [
    {
     "data": {
      "text/html": [
       "<div>\n",
       "<style scoped>\n",
       "    .dataframe tbody tr th:only-of-type {\n",
       "        vertical-align: middle;\n",
       "    }\n",
       "\n",
       "    .dataframe tbody tr th {\n",
       "        vertical-align: top;\n",
       "    }\n",
       "\n",
       "    .dataframe thead th {\n",
       "        text-align: right;\n",
       "    }\n",
       "</style>\n",
       "<table border=\"1\" class=\"dataframe\">\n",
       "  <thead>\n",
       "    <tr style=\"text-align: right;\">\n",
       "      <th></th>\n",
       "      <th>event_timestamp</th>\n",
       "    </tr>\n",
       "  </thead>\n",
       "  <tbody>\n",
       "    <tr>\n",
       "      <th>0</th>\n",
       "      <td>2021-07-02 14:27:51.457771</td>\n",
       "    </tr>\n",
       "    <tr>\n",
       "      <th>1</th>\n",
       "      <td>2021-07-03 14:27:51.457771</td>\n",
       "    </tr>\n",
       "    <tr>\n",
       "      <th>2</th>\n",
       "      <td>2021-07-04 14:27:51.457771</td>\n",
       "    </tr>\n",
       "    <tr>\n",
       "      <th>3</th>\n",
       "      <td>2021-07-05 14:27:51.457771</td>\n",
       "    </tr>\n",
       "    <tr>\n",
       "      <th>4</th>\n",
       "      <td>2021-07-06 14:27:51.457771</td>\n",
       "    </tr>\n",
       "    <tr>\n",
       "      <th>...</th>\n",
       "      <td>...</td>\n",
       "    </tr>\n",
       "    <tr>\n",
       "      <th>763</th>\n",
       "      <td>2023-08-04 14:27:51.457771</td>\n",
       "    </tr>\n",
       "    <tr>\n",
       "      <th>764</th>\n",
       "      <td>2023-08-05 14:27:51.457771</td>\n",
       "    </tr>\n",
       "    <tr>\n",
       "      <th>765</th>\n",
       "      <td>2023-08-06 14:27:51.457771</td>\n",
       "    </tr>\n",
       "    <tr>\n",
       "      <th>766</th>\n",
       "      <td>2023-08-07 14:27:51.457771</td>\n",
       "    </tr>\n",
       "    <tr>\n",
       "      <th>767</th>\n",
       "      <td>2023-08-08 14:27:51.457771</td>\n",
       "    </tr>\n",
       "  </tbody>\n",
       "</table>\n",
       "<p>768 rows × 1 columns</p>\n",
       "</div>"
      ],
      "text/plain": [
       "               event_timestamp\n",
       "0   2021-07-02 14:27:51.457771\n",
       "1   2021-07-03 14:27:51.457771\n",
       "2   2021-07-04 14:27:51.457771\n",
       "3   2021-07-05 14:27:51.457771\n",
       "4   2021-07-06 14:27:51.457771\n",
       "..                         ...\n",
       "763 2023-08-04 14:27:51.457771\n",
       "764 2023-08-05 14:27:51.457771\n",
       "765 2023-08-06 14:27:51.457771\n",
       "766 2023-08-07 14:27:51.457771\n",
       "767 2023-08-08 14:27:51.457771\n",
       "\n",
       "[768 rows x 1 columns]"
      ]
     },
     "execution_count": 8,
     "metadata": {},
     "output_type": "execute_result"
    }
   ],
   "source": [
    "timestamps"
   ]
  },
  {
   "cell_type": "code",
   "execution_count": 9,
   "id": "d30b35d5-2018-436c-9881-f1a28c2f9de1",
   "metadata": {},
   "outputs": [],
   "source": [
    "predictors_df = pd.concat(objs=[predictors_df, timestamps, patient_ids], axis=1)\n",
    "target_df = pd.concat(objs=[target_df, timestamps, patient_ids], axis=1)"
   ]
  },
  {
   "cell_type": "code",
   "execution_count": 10,
   "id": "56d7b8a3-9a92-429a-b298-47c54e6c24e7",
   "metadata": {},
   "outputs": [],
   "source": [
    "predictors_df.to_parquet(\"predictors_df.parquet\")\n",
    "target_df.to_parquet(\"target_df.parquet\")"
   ]
  },
  {
   "cell_type": "markdown",
   "id": "349eeb99-d0a4-4537-8a29-5c2e9ffed514",
   "metadata": {},
   "source": [
    "**Create feature repo**"
   ]
  },
  {
   "cell_type": "code",
   "execution_count": 11,
   "id": "f45b7601-c7cd-451f-adf5-0caadbd6a3ce",
   "metadata": {},
   "outputs": [
    {
     "name": "stdout",
     "output_type": "stream",
     "text": [
      "/home/tinku/.pyenv/versions/3.10.4/envs/feast/lib/python3.10/site-packages/feast/repo_operations.py:312: DeprecationWarning: The distutils package is deprecated and slated for removal in Python 3.12. Use setuptools or check PEP 632 for potential alternatives\n",
      "  from distutils.dir_util import copy_tree\n",
      "The directory \u001b[1m\u001b[32mfeature_repo\u001b[0m contains an existing feature store repository that may cause a conflict\n",
      "\n"
     ]
    }
   ],
   "source": [
    "!feast init feature_repo"
   ]
  },
  {
   "cell_type": "code",
   "execution_count": 12,
   "id": "a2bd1726-02b2-4a6d-b53c-c060a2f3959e",
   "metadata": {},
   "outputs": [
    {
     "name": "stdout",
     "output_type": "stream",
     "text": [
      "<class 'pandas.core.frame.DataFrame'>\n",
      "RangeIndex: 768 entries, 0 to 767\n",
      "Data columns (total 10 columns):\n",
      " #   Column                    Non-Null Count  Dtype         \n",
      "---  ------                    --------------  -----         \n",
      " 0   Pregnancies               768 non-null    int64         \n",
      " 1   Glucose                   768 non-null    int64         \n",
      " 2   BloodPressure             768 non-null    int64         \n",
      " 3   SkinThickness             768 non-null    int64         \n",
      " 4   Insulin                   768 non-null    int64         \n",
      " 5   BMI                       768 non-null    float64       \n",
      " 6   DiabetesPedigreeFunction  768 non-null    float64       \n",
      " 7   Age                       768 non-null    int64         \n",
      " 8   event_timestamp           768 non-null    datetime64[ns]\n",
      " 9   patient_id                768 non-null    int64         \n",
      "dtypes: datetime64[ns](1), float64(2), int64(7)\n",
      "memory usage: 60.1 KB\n"
     ]
    }
   ],
   "source": [
    "predictors_df.info()"
   ]
  },
  {
   "cell_type": "code",
   "execution_count": 13,
   "id": "707e878b-ecf7-46c6-8c3f-1c44075c70e6",
   "metadata": {},
   "outputs": [
    {
     "name": "stdout",
     "output_type": "stream",
     "text": [
      "<class 'pandas.core.frame.DataFrame'>\n",
      "RangeIndex: 768 entries, 0 to 767\n",
      "Data columns (total 3 columns):\n",
      " #   Column           Non-Null Count  Dtype         \n",
      "---  ------           --------------  -----         \n",
      " 0   Outcome          768 non-null    int64         \n",
      " 1   event_timestamp  768 non-null    datetime64[ns]\n",
      " 2   patient_id       768 non-null    int64         \n",
      "dtypes: datetime64[ns](1), int64(2)\n",
      "memory usage: 18.1 KB\n"
     ]
    }
   ],
   "source": [
    "target_df.info()"
   ]
  },
  {
   "cell_type": "code",
   "execution_count": 20,
   "id": "7866d73c-9f28-4281-be0f-271ccff3f067",
   "metadata": {},
   "outputs": [
    {
     "name": "stdout",
     "output_type": "stream",
     "text": [
      "/home/tinku/Linux_Workspace/feast/feature_repo\n"
     ]
    }
   ],
   "source": [
    "cd feature_repo"
   ]
  },
  {
   "cell_type": "code",
   "execution_count": 24,
   "id": "213aacea-7743-43d6-a344-46994bc88387",
   "metadata": {},
   "outputs": [
    {
     "data": {
      "text/plain": [
       "'/home/tinku/Linux_Workspace/feast/feature_repo'"
      ]
     },
     "execution_count": 24,
     "metadata": {},
     "output_type": "execute_result"
    }
   ],
   "source": [
    "pwd"
   ]
  },
  {
   "cell_type": "code",
   "execution_count": 26,
   "id": "c7613477-8b30-40ed-a727-c0c341f8092a",
   "metadata": {},
   "outputs": [
    {
     "name": "stdout",
     "output_type": "stream",
     "text": [
      "/home/tinku/.pyenv/versions/3.10.4/envs/feast/lib/python3.10/site-packages/feast/data_source.py:229: DeprecationWarning: The argument 'event_timestamp_column' is being deprecated. Please use 'timestamp_field' instead. instead. Feast 0.23 and onwards will not support the argument 'event_timestamp_column' for datasources.\n",
      "  warnings.warn(\n",
      "Created entity \u001b[1m\u001b[32mpatient_id\u001b[0m\n",
      "Created feature view \u001b[1m\u001b[32mpredictors_df_feature_view\u001b[0m\n",
      "Created feature view \u001b[1m\u001b[32mtarget_df_feature_view\u001b[0m\n",
      "\n",
      "Created sqlite table \u001b[1m\u001b[32mfeature_repo_predictors_df_feature_view\u001b[0m\n",
      "Created sqlite table \u001b[1m\u001b[32mfeature_repo_target_df_feature_view\u001b[0m\n",
      "\n"
     ]
    }
   ],
   "source": [
    "!feast apply"
   ]
  },
  {
   "cell_type": "markdown",
   "id": "10204642-f939-4dc0-b172-a3ff962aebc6",
   "metadata": {},
   "source": [
    "**Generating Training Data Set**"
   ]
  },
  {
   "cell_type": "code",
   "execution_count": 27,
   "id": "5dd45551-e696-45fa-b48d-86f697410be5",
   "metadata": {},
   "outputs": [],
   "source": [
    "from feast import FeatureStore\n",
    "from feast.infra.offline_stores.file_source import SavedDatasetFileStorage"
   ]
  },
  {
   "cell_type": "code",
   "execution_count": 28,
   "id": "3456346c-ce64-4a8f-ba4d-25126788b092",
   "metadata": {},
   "outputs": [],
   "source": [
    "fs = FeatureStore(repo_path='.')"
   ]
  },
  {
   "cell_type": "code",
   "execution_count": 29,
   "id": "073f4054-d025-4c71-9f6a-b0ddedf78341",
   "metadata": {},
   "outputs": [],
   "source": [
    "df_y = pd.read_parquet(path = \"data/target_df.parquet\")\n",
    "x_list = [\n",
    "    \"predictors_df_feature_view:Pregnancies\",\n",
    "    \"predictors_df_feature_view:Glucose\",\n",
    "    \"predictors_df_feature_view:BloodPressure\",\n",
    "    \"predictors_df_feature_view:SkinThickness\",\n",
    "    \"predictors_df_feature_view:Insulin\",\n",
    "    \"predictors_df_feature_view:BMI\",\n",
    "    \"predictors_df_feature_view:DiabetesPedigreeFunction\",\n",
    "    \"predictors_df_feature_view:Age\",\n",
    "]"
   ]
  },
  {
   "cell_type": "markdown",
   "id": "673f9429-fbc8-444e-8748-2fa77953a011",
   "metadata": {},
   "source": [
    "**Create training set (x,y) from the feature store - use the the target(y) and features(x) defined above**"
   ]
  },
  {
   "cell_type": "code",
   "execution_count": 30,
   "id": "bac023fa-a3ed-436d-98d2-d1b5883009d4",
   "metadata": {},
   "outputs": [],
   "source": [
    "training_data = fs.get_historical_features(\n",
    "    entity_df = df_y,\n",
    "    features = x_list\n",
    ")"
   ]
  },
  {
   "cell_type": "code",
   "execution_count": 32,
   "id": "71a121e6-2368-43f3-bed8-5261910337d6",
   "metadata": {},
   "outputs": [
    {
     "name": "stderr",
     "output_type": "stream",
     "text": [
      "/home/tinku/.pyenv/versions/3.10.4/envs/feast/lib/python3.10/site-packages/feast/feature_store.py:952: RuntimeWarning: Saving dataset is an experimental feature. This API is unstable and it could and most probably will be changed in the future. We do not guarantee that future changes will maintain backward compatibility.\n",
      "  warnings.warn(\n"
     ]
    }
   ],
   "source": [
    "dataset = fs.create_saved_dataset(\n",
    "    from_ = training_data,\n",
    "    name = \"diabetes_dataset\",\n",
    "    storage = SavedDatasetFileStorage(\"data/diabetes_dataset.parquet\")\n",
    ")"
   ]
  },
  {
   "cell_type": "markdown",
   "id": "2f0d5a2b-1913-464e-bada-6a84e23627fa",
   "metadata": {},
   "source": [
    "**Simple model training**"
   ]
  },
  {
   "cell_type": "code",
   "execution_count": 34,
   "id": "46afa333-c7e1-4d27-b763-e6190f8ead5b",
   "metadata": {},
   "outputs": [
    {
     "name": "stderr",
     "output_type": "stream",
     "text": [
      "/home/tinku/.pyenv/versions/3.10.4/envs/feast/lib/python3.10/site-packages/feast/feature_store.py:1005: RuntimeWarning: Retrieving datasets is an experimental feature. This API is unstable and it could and most probably will be changed in the future. We do not guarantee that future changes will maintain backward compatibility.\n",
      "  warnings.warn(\n",
      "/home/tinku/.pyenv/versions/3.10.4/envs/feast/lib/python3.10/site-packages/sklearn/linear_model/_logistic.py:460: ConvergenceWarning: lbfgs failed to converge (status=1):\n",
      "STOP: TOTAL NO. of ITERATIONS REACHED LIMIT.\n",
      "\n",
      "Increase the number of iterations (max_iter) or scale the data as shown in:\n",
      "    https://scikit-learn.org/stable/modules/preprocessing.html\n",
      "Please also refer to the documentation for alternative solver options:\n",
      "    https://scikit-learn.org/stable/modules/linear_model.html#logistic-regression\n",
      "  n_iter_i = _check_optimize_result(\n"
     ]
    },
    {
     "data": {
      "text/plain": [
       "['model.joblib']"
      ]
     },
     "execution_count": 34,
     "metadata": {},
     "output_type": "execute_result"
    }
   ],
   "source": [
    "from sklearn.model_selection import train_test_split\n",
    "from sklearn.linear_model import LogisticRegression\n",
    "from joblib import dump\n",
    "\n",
    "# Getting our FeatureStore\n",
    "store = FeatureStore(repo_path=\".\")\n",
    "\n",
    "# Retrieving the saved dataset and converting it to a DataFrame\n",
    "training_df = store.get_saved_dataset(name=\"diabetes_dataset\").to_df()\n",
    "\n",
    "# Separating the features and labels\n",
    "y = training_df['Outcome']\n",
    "X = training_df.drop(\n",
    "    labels=['Outcome', 'event_timestamp', \"patient_id\"], \n",
    "    axis=1)\n",
    "\n",
    "# Splitting the dataset into train and test sets\n",
    "X_train, X_test, y_train, y_test = train_test_split(X, \n",
    "                                                    y, \n",
    "                                                    stratify=y)\n",
    "\n",
    "# Creating and training LogisticRegression\n",
    "reg = LogisticRegression()\n",
    "reg.fit(X=X_train[sorted(X_train)], y=y_train)\n",
    "\n",
    "# Saving the model\n",
    "dump(value=reg, filename=\"model.joblib\")"
   ]
  },
  {
   "cell_type": "markdown",
   "id": "9499e22a-33e7-47e9-88f1-5075f59da57f",
   "metadata": {},
   "source": [
    "**Online feature store**"
   ]
  },
  {
   "cell_type": "code",
   "execution_count": 37,
   "id": "24cc9bab-833c-4fbc-afa0-94f6dda63bf7",
   "metadata": {},
   "outputs": [],
   "source": [
    "from feast import FeatureStore\n",
    "from datetime import datetime"
   ]
  },
  {
   "cell_type": "code",
   "execution_count": 36,
   "id": "bb980395-82a8-4ad4-a03c-3d17b2a2b272",
   "metadata": {},
   "outputs": [
    {
     "name": "stdout",
     "output_type": "stream",
     "text": [
      "Materializing \u001b[1m\u001b[32m2\u001b[0m feature views to \u001b[1m\u001b[32m2023-08-08 17:14:55-04:00\u001b[0m into the \u001b[1m\u001b[32msqlite\u001b[0m online store.\n",
      "\n",
      "\u001b[1m\u001b[32mpredictors_df_feature_view\u001b[0m from \u001b[1m\u001b[32m2023-08-06 21:14:55-04:00\u001b[0m to \u001b[1m\u001b[32m2023-08-08 17:14:55-04:00\u001b[0m:\n"
     ]
    },
    {
     "name": "stderr",
     "output_type": "stream",
     "text": [
      "100%|████████████████████████████████████████████████████████████████| 2/2 [00:00<00:00, 238.00it/s]\n"
     ]
    },
    {
     "name": "stdout",
     "output_type": "stream",
     "text": [
      "\u001b[1m\u001b[32mtarget_df_feature_view\u001b[0m from \u001b[1m\u001b[32m2023-08-06 21:14:55-04:00\u001b[0m to \u001b[1m\u001b[32m2023-08-08 13:14:55-04:00\u001b[0m:\n"
     ]
    },
    {
     "name": "stderr",
     "output_type": "stream",
     "text": [
      "100%|████████████████████████████████████████████████████████████████| 2/2 [00:00<00:00, 264.29it/s]\n"
     ]
    }
   ],
   "source": [
    "fs = FeatureStore(repo_path = \".\")\n",
    "fs.materialize_incremental(end_date = datetime.now())"
   ]
  },
  {
   "cell_type": "markdown",
   "id": "72b9ae18-3309-4774-bde1-b687e7a84f64",
   "metadata": {},
   "source": [
    "**Inference**"
   ]
  },
  {
   "cell_type": "code",
   "execution_count": 38,
   "id": "b3404c55-9dae-4d6a-8297-b86dbb5740f5",
   "metadata": {},
   "outputs": [],
   "source": [
    "from joblib import load"
   ]
  },
  {
   "cell_type": "code",
   "execution_count": 45,
   "id": "b7b1eb34-8b61-44e2-9922-217281a723a6",
   "metadata": {},
   "outputs": [],
   "source": [
    "latest_entries = store.get_online_features(\n",
    "    entity_rows = [{\"patient_id\": 767}, {\"patient_id\": 766}],\n",
    "    features = x_list\n",
    ").to_dict()\n",
    "latest_df = pd.DataFrame.from_dict(data=latest_entries)"
   ]
  },
  {
   "cell_type": "code",
   "execution_count": 46,
   "id": "276014bf-4c99-4c3e-a296-dd5a7ded5058",
   "metadata": {},
   "outputs": [],
   "source": [
    "reg = load(\"model.joblib\")\n",
    "predictions = reg.predict(latest_df[sorted(latest_df.drop(\"patient_id\", axis=1))])"
   ]
  },
  {
   "cell_type": "code",
   "execution_count": 47,
   "id": "e324da1c-736b-459b-95dc-7c07ba6baaa8",
   "metadata": {},
   "outputs": [
    {
     "data": {
      "text/plain": [
       "array([0, 0])"
      ]
     },
     "execution_count": 47,
     "metadata": {},
     "output_type": "execute_result"
    }
   ],
   "source": [
    "predictions"
   ]
  },
  {
   "cell_type": "code",
   "execution_count": null,
   "id": "15b6dd9b-a77e-47d2-86c8-e0903f391bd7",
   "metadata": {},
   "outputs": [],
   "source": []
  }
 ],
 "metadata": {
  "kernelspec": {
   "display_name": "Python 3 (ipykernel)",
   "language": "python",
   "name": "python3"
  },
  "language_info": {
   "codemirror_mode": {
    "name": "ipython",
    "version": 3
   },
   "file_extension": ".py",
   "mimetype": "text/x-python",
   "name": "python",
   "nbconvert_exporter": "python",
   "pygments_lexer": "ipython3",
   "version": "3.10.4"
  }
 },
 "nbformat": 4,
 "nbformat_minor": 5
}
